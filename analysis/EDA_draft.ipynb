{
 "cells": [
  {
   "cell_type": "markdown",
   "metadata": {},
   "source": [
    "# Exploratory data analysis¶"
   ]
  },
  {
   "cell_type": "code",
   "execution_count": 1,
   "metadata": {},
   "outputs": [
    {
     "data": {
      "text/plain": [
       "DataTransformerRegistry.enable('json')"
      ]
     },
     "execution_count": 1,
     "metadata": {},
     "output_type": "execute_result"
    }
   ],
   "source": [
    "# Load Packages\n",
    "import pandas as pd\n",
    "import altair as alt \n",
    "import matplotlib as plt\n",
    "from sklearn.model_selection import train_test_split\n",
    "alt.data_transformers.enable('json')"
   ]
  },
  {
   "cell_type": "code",
   "execution_count": 2,
   "metadata": {},
   "outputs": [
    {
     "data": {
      "text/plain": [
       "ThemeRegistry.enable('mds_special')"
      ]
     },
     "execution_count": 2,
     "metadata": {},
     "output_type": "execute_result"
    }
   ],
   "source": [
    "def mds_special():\n",
    "    font = \"Arial\"\n",
    "    axisColor = \"#000000\"\n",
    "    gridColor = \"#DEDDDD\"\n",
    "    return {\n",
    "        \"config\": {\n",
    "            \"title\": {\n",
    "                \"fontSize\": 24,\n",
    "                \"font\": font,\n",
    "                \"anchor\": \"start\", # equivalent of left-aligned.\n",
    "                \"fontColor\": \"#000000\"\n",
    "            },\n",
    "            \"header\": {\n",
    "                \"fontSize\": 14,\n",
    "                \"labelFontSize\": 14\n",
    "            },\n",
    "\n",
    "            'view': {\n",
    "                \"height\": 300, \n",
    "                \"width\": 400\n",
    "            },\n",
    "            \"axisX\": {\n",
    "                \"domain\": True,\n",
    "                #\"domainColor\": axisColor,\n",
    "                \"gridColor\": gridColor,\n",
    "                \"domainWidth\": 1,\n",
    "                \"grid\": False,\n",
    "                \"labelFont\": font,\n",
    "                \"labelFontSize\": 14,\n",
    "                \"labelAngle\": 0, \n",
    "                \"tickColor\": axisColor,\n",
    "                \"tickSize\": 5, # default, including it just to show you can change it\n",
    "                \"titleFont\": font,\n",
    "                \"titleFontSize\": 16,\n",
    "                \"titlePadding\": 10, # guessing, not specified in styleguide\n",
    "                \"title\": \"X Axis Title (units)\", \n",
    "            },\n",
    "            \"axisY\": {\n",
    "                \"domain\": False,\n",
    "                \"grid\": True,\n",
    "                \"gridColor\": gridColor,\n",
    "                \"gridWidth\": 1,\n",
    "                \"labelFont\": font,\n",
    "                \"labelFontSize\": 14,\n",
    "                \"labelAngle\": 0, \n",
    "                #\"ticks\": False, # even if you don't have a \"domain\" you need to turn these off.\n",
    "                \"titleFont\": font,\n",
    "                \"titleFontSize\": 16,\n",
    "                \"titlePadding\": 10, # guessing, not specified in styleguide\n",
    "                \"title\": \"Y Axis Title (units)\", \n",
    "                # titles are by default vertical left of axis so we need to hack this \n",
    "                #\"titleAngle\": 0, # horizontal\n",
    "                #\"titleY\": -10, # move it up\n",
    "                #\"titleX\": 18, # move it to the right so it aligns with the labels \n",
    "            },\n",
    "        }\n",
    "            }\n",
    "\n",
    "# register the custom theme under a chosen name\n",
    "alt.themes.register('mds_special', mds_special)\n",
    "\n",
    "# enable the newly registered theme\n",
    "alt.themes.enable('mds_special')\n",
    "#alt.themes.enable('none') # to return to default"
   ]
  },
  {
   "cell_type": "markdown",
   "metadata": {},
   "source": [
    "## 1. Describe the dataset"
   ]
  },
  {
   "cell_type": "markdown",
   "metadata": {},
   "source": [
    "## 2. Load the dataset "
   ]
  },
  {
   "cell_type": "code",
   "execution_count": 3,
   "metadata": {},
   "outputs": [],
   "source": [
    "# Load the dataset \n",
    "# breast_quad: the quadrant of the breast\n",
    "df = pd.read_csv(\"../data/raw_data/breast_cancer_raw.csv\")\n",
    "df.columns = [\"Class\", \"age\", \"menopause\", \"tumor_size\", \"inv_nodes\", \"node_caps\", \"deg_malig\", \"breast\", \"breast_quad\", \"irradiat\"]"
   ]
  },
  {
   "cell_type": "code",
   "execution_count": 4,
   "metadata": {},
   "outputs": [
    {
     "data": {
      "text/html": [
       "<div>\n",
       "<style scoped>\n",
       "    .dataframe tbody tr th:only-of-type {\n",
       "        vertical-align: middle;\n",
       "    }\n",
       "\n",
       "    .dataframe tbody tr th {\n",
       "        vertical-align: top;\n",
       "    }\n",
       "\n",
       "    .dataframe thead th {\n",
       "        text-align: right;\n",
       "    }\n",
       "</style>\n",
       "<table border=\"1\" class=\"dataframe\">\n",
       "  <thead>\n",
       "    <tr style=\"text-align: right;\">\n",
       "      <th></th>\n",
       "      <th>Class</th>\n",
       "      <th>age</th>\n",
       "      <th>menopause</th>\n",
       "      <th>tumor_size</th>\n",
       "      <th>inv_nodes</th>\n",
       "      <th>node_caps</th>\n",
       "      <th>deg_malig</th>\n",
       "      <th>breast</th>\n",
       "      <th>breast_quad</th>\n",
       "      <th>irradiat</th>\n",
       "    </tr>\n",
       "  </thead>\n",
       "  <tbody>\n",
       "    <tr>\n",
       "      <th>0</th>\n",
       "      <td>no-recurrence-events</td>\n",
       "      <td>40-49</td>\n",
       "      <td>premeno</td>\n",
       "      <td>20-24</td>\n",
       "      <td>0-2</td>\n",
       "      <td>no</td>\n",
       "      <td>2</td>\n",
       "      <td>left</td>\n",
       "      <td>left_low</td>\n",
       "      <td>no</td>\n",
       "    </tr>\n",
       "    <tr>\n",
       "      <th>1</th>\n",
       "      <td>no-recurrence-events</td>\n",
       "      <td>60-69</td>\n",
       "      <td>ge40</td>\n",
       "      <td>15-19</td>\n",
       "      <td>0-2</td>\n",
       "      <td>no</td>\n",
       "      <td>2</td>\n",
       "      <td>right</td>\n",
       "      <td>left_up</td>\n",
       "      <td>no</td>\n",
       "    </tr>\n",
       "    <tr>\n",
       "      <th>2</th>\n",
       "      <td>no-recurrence-events</td>\n",
       "      <td>40-49</td>\n",
       "      <td>premeno</td>\n",
       "      <td>0-4</td>\n",
       "      <td>0-2</td>\n",
       "      <td>no</td>\n",
       "      <td>2</td>\n",
       "      <td>right</td>\n",
       "      <td>right_low</td>\n",
       "      <td>no</td>\n",
       "    </tr>\n",
       "    <tr>\n",
       "      <th>3</th>\n",
       "      <td>no-recurrence-events</td>\n",
       "      <td>60-69</td>\n",
       "      <td>ge40</td>\n",
       "      <td>15-19</td>\n",
       "      <td>0-2</td>\n",
       "      <td>no</td>\n",
       "      <td>2</td>\n",
       "      <td>left</td>\n",
       "      <td>left_low</td>\n",
       "      <td>no</td>\n",
       "    </tr>\n",
       "    <tr>\n",
       "      <th>4</th>\n",
       "      <td>no-recurrence-events</td>\n",
       "      <td>50-59</td>\n",
       "      <td>premeno</td>\n",
       "      <td>25-29</td>\n",
       "      <td>0-2</td>\n",
       "      <td>no</td>\n",
       "      <td>2</td>\n",
       "      <td>left</td>\n",
       "      <td>left_low</td>\n",
       "      <td>no</td>\n",
       "    </tr>\n",
       "  </tbody>\n",
       "</table>\n",
       "</div>"
      ],
      "text/plain": [
       "                  Class    age menopause tumor_size inv_nodes node_caps  \\\n",
       "0  no-recurrence-events  40-49   premeno      20-24       0-2        no   \n",
       "1  no-recurrence-events  60-69      ge40      15-19       0-2        no   \n",
       "2  no-recurrence-events  40-49   premeno        0-4       0-2        no   \n",
       "3  no-recurrence-events  60-69      ge40      15-19       0-2        no   \n",
       "4  no-recurrence-events  50-59   premeno      25-29       0-2        no   \n",
       "\n",
       "   deg_malig breast breast_quad irradiat  \n",
       "0          2   left    left_low       no  \n",
       "1          2  right     left_up       no  \n",
       "2          2  right   right_low       no  \n",
       "3          2   left    left_low       no  \n",
       "4          2   left    left_low       no  "
      ]
     },
     "execution_count": 4,
     "metadata": {},
     "output_type": "execute_result"
    }
   ],
   "source": [
    "df.head()"
   ]
  },
  {
   "cell_type": "code",
   "execution_count": null,
   "metadata": {},
   "outputs": [],
   "source": []
  },
  {
   "cell_type": "markdown",
   "metadata": {},
   "source": [
    "## 3. Explore the dataset "
   ]
  },
  {
   "cell_type": "code",
   "execution_count": 5,
   "metadata": {},
   "outputs": [
    {
     "name": "stdout",
     "output_type": "stream",
     "text": [
      "- There are two classes of breast cancer:  ['no-recurrence-events', 'recurrence-events'] \n",
      "\n",
      "- The groups of age are:  ['20-29', '30-39', '40-49', '50-59', '60-69', '70-79'] \n",
      "\n",
      "- The menopause times are:  ['premeno', 'ge40', 'lt40'] \n",
      "\n",
      "- The groups of patients' tumor size are: ['20-24', '15-19', '0-4', '25-29', '50-54', '10-14', '30-34', '40-44', '35-39', '5-9', '45-49'] \n",
      "\n",
      "- The ranges of the number of axillary lymph nodes that contain metastatic breast cancer visible on histological examinationare are:  ['0-2', '6-8', '9-11', '3-5', '15-17', '12-14', '24-26'] \n",
      "\n",
      "- The degree of malignancy ranging form 1-3 \n",
      "\n",
      "- There are 56 patient's node is present in cap of the breast out of 284 \n",
      "\n",
      "- The quadrants of the breast are:  ['left_low', 'left_up', 'right_low', 'central', 'right_up', '?'] \n",
      "\n",
      "- There are 68 patients are used to be treated with radiation therapy while 216 patients are not \n",
      "\n"
     ]
    }
   ],
   "source": [
    "print(\"- There are two classes of breast cancer: \", list(df[\"Class\"].dropna().unique()), \"\\n\")\n",
    "print(\"- The groups of age are: \", sorted(list(df[\"age\"].dropna().unique())), \"\\n\")\n",
    "print(\"- The menopause times are: \", list(df[\"menopause\"].dropna().unique()), \"\\n\")\n",
    "print(\"- The groups of patients' tumor size are:\", list(df[\"tumor_size\"].dropna().unique()), \"\\n\") \n",
    "print(\"- The ranges of the number of axillary lymph nodes that contain metastatic breast cancer visible on histological examinationare are: \"\\\n",
    "      , list(df[\"inv_nodes\"].dropna().unique()), \"\\n\")\n",
    "print(\"- The degree of malignancy ranging form {0}-{1}\".format(df[\"deg_malig\"].dropna().min(), df[\"deg_malig\"].max()), \"\\n\") \n",
    "print(\"- There are {0} patient's node is present in cap of the breast out of {1}\".format(df[df[\"node_caps\"] == 'yes'][\"node_caps\"].count(), df[\"node_caps\"].count()), \"\\n\") \n",
    "print(\"- The quadrants of the breast are: \", list(df[\"breast_quad\"].dropna().unique()), \"\\n\")\n",
    "print(\"- There are {0} patients are used to be treated with radiation therapy while {1} patients are not\".format(df[df[\"irradiat\"] == 'yes'][\"irradiat\"].count(), df[df[\"irradiat\"] == 'no'][\"irradiat\"].count()), \"\\n\") \n",
    "\n",
    "# deg_malig: Degree of malignancy\n",
    "# inv_nodes: the number (range 0 - 39) of axillary lymph nodes that contain metastatic breast cancer visible on histological examination\n",
    "# node_caps: if the cancer does metastasise to a lymph node, although outside the original site of the tumor it may remain “contained” \n",
    "#           by the capsule of the lymph node. However, over time, and with more aggressive disease, the tumor may replace the lymph node \n",
    "#           and then penetrate the capsule, allowing it to invade the surrounding tissues;"
   ]
  },
  {
   "cell_type": "markdown",
   "metadata": {},
   "source": [
    "## 4. Wrangling"
   ]
  },
  {
   "cell_type": "code",
   "execution_count": 6,
   "metadata": {},
   "outputs": [],
   "source": [
    "df = df.query(\"node_caps != '?' and breast_quad != '?'\")\n",
    "# Average the tumor size\n",
    "tumor_size_str_lst = [i.split('-', 1) for i in list(df[\"tumor_size\"])]\n",
    "tumor_size_int_lst = []\n",
    "tumor_size_avg_lst = []\n",
    "for i in range(len(tumor_size_str_lst)):\n",
    "    tumor_size_int_lst.append([int(j) for j in tumor_size_str_lst[i]])\n",
    "for i in range(len(tumor_size_int_lst)):\n",
    "    tumor_size_avg_lst.append(sum(tumor_size_int_lst[i])/len(tumor_size_int_lst[i]))\n",
    "df[\"avg_tumor_size\"] = tumor_size_avg_lst\n",
    "df = df.drop(columns = [\"tumor_size\"])"
   ]
  },
  {
   "cell_type": "code",
   "execution_count": 7,
   "metadata": {},
   "outputs": [],
   "source": [
    "df.to_csv(\"../data/clean_data/breast_cancer_clean.csv\", index=False)\n",
    "# Split data \n",
    "df_train, df_test = train_test_split(df, test_size=0.20, random_state=100)"
   ]
  },
  {
   "cell_type": "code",
   "execution_count": 8,
   "metadata": {},
   "outputs": [
    {
     "data": {
      "text/html": [
       "<div>\n",
       "<style scoped>\n",
       "    .dataframe tbody tr th:only-of-type {\n",
       "        vertical-align: middle;\n",
       "    }\n",
       "\n",
       "    .dataframe tbody tr th {\n",
       "        vertical-align: top;\n",
       "    }\n",
       "\n",
       "    .dataframe thead th {\n",
       "        text-align: right;\n",
       "    }\n",
       "</style>\n",
       "<table border=\"1\" class=\"dataframe\">\n",
       "  <thead>\n",
       "    <tr style=\"text-align: right;\">\n",
       "      <th></th>\n",
       "      <th>Class</th>\n",
       "      <th>age</th>\n",
       "      <th>menopause</th>\n",
       "      <th>inv_nodes</th>\n",
       "      <th>node_caps</th>\n",
       "      <th>deg_malig</th>\n",
       "      <th>breast</th>\n",
       "      <th>breast_quad</th>\n",
       "      <th>irradiat</th>\n",
       "      <th>avg_tumor_size</th>\n",
       "    </tr>\n",
       "  </thead>\n",
       "  <tbody>\n",
       "    <tr>\n",
       "      <th>111</th>\n",
       "      <td>no-recurrence-events</td>\n",
       "      <td>40-49</td>\n",
       "      <td>premeno</td>\n",
       "      <td>0-2</td>\n",
       "      <td>no</td>\n",
       "      <td>1</td>\n",
       "      <td>right</td>\n",
       "      <td>left_up</td>\n",
       "      <td>no</td>\n",
       "      <td>12.0</td>\n",
       "    </tr>\n",
       "    <tr>\n",
       "      <th>230</th>\n",
       "      <td>recurrence-events</td>\n",
       "      <td>30-39</td>\n",
       "      <td>premeno</td>\n",
       "      <td>3-5</td>\n",
       "      <td>no</td>\n",
       "      <td>3</td>\n",
       "      <td>right</td>\n",
       "      <td>left_up</td>\n",
       "      <td>yes</td>\n",
       "      <td>32.0</td>\n",
       "    </tr>\n",
       "    <tr>\n",
       "      <th>29</th>\n",
       "      <td>no-recurrence-events</td>\n",
       "      <td>50-59</td>\n",
       "      <td>premeno</td>\n",
       "      <td>0-2</td>\n",
       "      <td>no</td>\n",
       "      <td>2</td>\n",
       "      <td>right</td>\n",
       "      <td>left_low</td>\n",
       "      <td>no</td>\n",
       "      <td>17.0</td>\n",
       "    </tr>\n",
       "    <tr>\n",
       "      <th>99</th>\n",
       "      <td>no-recurrence-events</td>\n",
       "      <td>50-59</td>\n",
       "      <td>ge40</td>\n",
       "      <td>0-2</td>\n",
       "      <td>no</td>\n",
       "      <td>3</td>\n",
       "      <td>right</td>\n",
       "      <td>left_low</td>\n",
       "      <td>no</td>\n",
       "      <td>32.0</td>\n",
       "    </tr>\n",
       "    <tr>\n",
       "      <th>216</th>\n",
       "      <td>recurrence-events</td>\n",
       "      <td>60-69</td>\n",
       "      <td>ge40</td>\n",
       "      <td>0-2</td>\n",
       "      <td>no</td>\n",
       "      <td>3</td>\n",
       "      <td>right</td>\n",
       "      <td>central</td>\n",
       "      <td>no</td>\n",
       "      <td>32.0</td>\n",
       "    </tr>\n",
       "  </tbody>\n",
       "</table>\n",
       "</div>"
      ],
      "text/plain": [
       "                    Class    age menopause inv_nodes node_caps  deg_malig  \\\n",
       "111  no-recurrence-events  40-49   premeno       0-2        no          1   \n",
       "230     recurrence-events  30-39   premeno       3-5        no          3   \n",
       "29   no-recurrence-events  50-59   premeno       0-2        no          2   \n",
       "99   no-recurrence-events  50-59      ge40       0-2        no          3   \n",
       "216     recurrence-events  60-69      ge40       0-2        no          3   \n",
       "\n",
       "    breast breast_quad irradiat  avg_tumor_size  \n",
       "111  right     left_up       no            12.0  \n",
       "230  right     left_up      yes            32.0  \n",
       "29   right    left_low       no            17.0  \n",
       "99   right    left_low       no            32.0  \n",
       "216  right     central       no            32.0  "
      ]
     },
     "execution_count": 8,
     "metadata": {},
     "output_type": "execute_result"
    }
   ],
   "source": [
    "df_train.head()"
   ]
  },
  {
   "cell_type": "markdown",
   "metadata": {},
   "source": [
    "## 5. Data Analysis & Visualizations"
   ]
  },
  {
   "cell_type": "code",
   "execution_count": 9,
   "metadata": {},
   "outputs": [
    {
     "name": "stdout",
     "output_type": "stream",
     "text": [
      "<class 'pandas.core.frame.DataFrame'>\n",
      "Int64Index: 220 entries, 111 to 8\n",
      "Data columns (total 10 columns):\n",
      "Class             220 non-null object\n",
      "age               220 non-null object\n",
      "menopause         220 non-null object\n",
      "inv_nodes         220 non-null object\n",
      "node_caps         220 non-null object\n",
      "deg_malig         220 non-null int64\n",
      "breast            220 non-null object\n",
      "breast_quad       220 non-null object\n",
      "irradiat          220 non-null object\n",
      "avg_tumor_size    220 non-null float64\n",
      "dtypes: float64(1), int64(1), object(8)\n",
      "memory usage: 18.9+ KB\n"
     ]
    }
   ],
   "source": [
    "df_train.info() # no missing values "
   ]
  },
  {
   "cell_type": "code",
   "execution_count": 10,
   "metadata": {},
   "outputs": [],
   "source": [
    "# Plot1: no-recurrence-events VS recurrence-events\n",
    "plt1 = alt.Chart(df_train).mark_bar().encode(\n",
    "    alt.X(\"Class:N\"),\n",
    "    alt.Y(\"count()\", title = \"Number of patients\"),\n",
    ").properties(width=300, height=200, title = \"no-recurrence-events VS recurrence-events\")"
   ]
  },
  {
   "cell_type": "code",
   "execution_count": 11,
   "metadata": {},
   "outputs": [],
   "source": [
    "def plot_categorical(feature_name, title_name):\n",
    "    plt = alt.Chart(df_train).mark_bar().encode(\n",
    "        alt.X(\"Class\", type ='ordinal', axis = alt.Axis(labelAngle = 45)),\n",
    "        alt.Y(\"count()\", title = \"Number of patients\"),\n",
    "        alt.Column(feature_name)\n",
    "    ).properties(width=100, height=200, title = title_name)\n",
    "    \n",
    "    return plt\n",
    "    \n",
    "    "
   ]
  },
  {
   "cell_type": "code",
   "execution_count": 12,
   "metadata": {},
   "outputs": [],
   "source": [
    "plt2 = plot_categorical(\"menopause\", \"Recurrence class against patient's menopause\")\n",
    "plt3 = plot_categorical(\"age\", \"Recurrence class against patient's age\")\n",
    "plt4 = plot_categorical(\"node_caps\", \"Recurrence class against patient's node_caps\")\n",
    "plt5 = plot_categorical(\"deg_malig\", \"Recurrence class against patient's deg_malig\")\n",
    "plt5 = plot_categorical(\"breast_quad\", \"Recurrence class against patient's breast_quad\")\n",
    "plt6 = plot_categorical(\"irradiat\", \"Recurrence class against patient's irradiat treatment\")\n",
    " "
   ]
  },
  {
   "cell_type": "code",
   "execution_count": 13,
   "metadata": {},
   "outputs": [
    {
     "data": {
      "application/vnd.vegalite.v3+json": {
       "$schema": "https://vega.github.io/schema/vega-lite/v3.4.0.json",
       "config": {
        "axisX": {
         "domain": true,
         "domainWidth": 1,
         "grid": false,
         "gridColor": "#DEDDDD",
         "labelAngle": 0,
         "labelFont": "Arial",
         "labelFontSize": 14,
         "tickColor": "#000000",
         "tickSize": 5,
         "title": "X Axis Title (units)",
         "titleFont": "Arial",
         "titleFontSize": 16,
         "titlePadding": 10
        },
        "axisY": {
         "domain": false,
         "grid": true,
         "gridColor": "#DEDDDD",
         "gridWidth": 1,
         "labelAngle": 0,
         "labelFont": "Arial",
         "labelFontSize": 14,
         "title": "Y Axis Title (units)",
         "titleFont": "Arial",
         "titleFontSize": 16,
         "titlePadding": 10
        },
        "header": {
         "fontSize": 14,
         "labelFontSize": 14
        },
        "title": {
         "anchor": "start",
         "font": "Arial",
         "fontColor": "#000000",
         "fontSize": 24
        },
        "view": {
         "height": 300,
         "width": 400
        }
       },
       "data": {
        "format": {
         "type": "json"
        },
        "url": "altair-data-f9f2d787cf68a0c8be162a38be95886d.json"
       },
       "encoding": {
        "x": {
         "field": "Class",
         "type": "nominal"
        },
        "y": {
         "aggregate": "count",
         "title": "Number of patients",
         "type": "quantitative"
        }
       },
       "height": 200,
       "mark": "bar",
       "title": "no-recurrence-events VS recurrence-events",
       "width": 300
      },
      "image/png": "[encoded data removed]",
      "text/plain": [
       "<VegaLite 3 object>\n",
       "\n",
       "If you see this message, it means the renderer has not been properly enabled\n",
       "for the frontend that you are using. For more information, see\n",
       "https://altair-viz.github.io/user_guide/troubleshooting.html\n"
      ]
     },
     "execution_count": 13,
     "metadata": {},
     "output_type": "execute_result"
    }
   ],
   "source": [
    "plt1"
   ]
  },
  {
   "cell_type": "markdown",
   "metadata": {},
   "source": [
    "> Most breast cancer are non-current. The occurrence of no recurrent events is approximately as three times as many then the occurrence of recurrent events. The dataset is unbalance."
   ]
  },
  {
   "cell_type": "code",
   "execution_count": 14,
   "metadata": {},
   "outputs": [
    {
     "data": {
      "application/vnd.vegalite.v3+json": {
       "$schema": "https://vega.github.io/schema/vega-lite/v3.4.0.json",
       "config": {
        "axisX": {
         "domain": true,
         "domainWidth": 1,
         "grid": false,
         "gridColor": "#DEDDDD",
         "labelAngle": 0,
         "labelFont": "Arial",
         "labelFontSize": 14,
         "tickColor": "#000000",
         "tickSize": 5,
         "title": "X Axis Title (units)",
         "titleFont": "Arial",
         "titleFontSize": 16,
         "titlePadding": 10
        },
        "axisY": {
         "domain": false,
         "grid": true,
         "gridColor": "#DEDDDD",
         "gridWidth": 1,
         "labelAngle": 0,
         "labelFont": "Arial",
         "labelFontSize": 14,
         "title": "Y Axis Title (units)",
         "titleFont": "Arial",
         "titleFontSize": 16,
         "titlePadding": 10
        },
        "header": {
         "fontSize": 14,
         "labelFontSize": 14
        },
        "title": {
         "anchor": "start",
         "font": "Arial",
         "fontColor": "#000000",
         "fontSize": 24
        },
        "view": {
         "height": 300,
         "width": 400
        }
       },
       "data": {
        "format": {
         "type": "json"
        },
        "url": "altair-data-f9f2d787cf68a0c8be162a38be95886d.json"
       },
       "encoding": {
        "column": {
         "field": "menopause",
         "type": "nominal"
        },
        "x": {
         "axis": {
          "labelAngle": 45
         },
         "field": "Class",
         "type": "ordinal"
        },
        "y": {
         "aggregate": "count",
         "title": "Number of patients",
         "type": "quantitative"
        }
       },
       "height": 200,
       "mark": "bar",
       "title": "Recurrence class against patient's menopause",
       "width": 100
      },
      "image/png": "[encoded data removed]",
      "text/plain": [
       "<VegaLite 3 object>\n",
       "\n",
       "If you see this message, it means the renderer has not been properly enabled\n",
       "for the frontend that you are using. For more information, see\n",
       "https://altair-viz.github.io/user_guide/troubleshooting.html\n"
      ]
     },
     "execution_count": 14,
     "metadata": {},
     "output_type": "execute_result"
    }
   ],
   "source": [
    "plt2"
   ]
  },
  {
   "cell_type": "markdown",
   "metadata": {},
   "source": [
    "> People with age less than 40 almost don't have breast cancer. There are more recurrence events happening in premeno women."
   ]
  },
  {
   "cell_type": "code",
   "execution_count": 15,
   "metadata": {},
   "outputs": [
    {
     "data": {
      "application/vnd.vegalite.v3+json": {
       "$schema": "https://vega.github.io/schema/vega-lite/v3.4.0.json",
       "config": {
        "axisX": {
         "domain": true,
         "domainWidth": 1,
         "grid": false,
         "gridColor": "#DEDDDD",
         "labelAngle": 0,
         "labelFont": "Arial",
         "labelFontSize": 14,
         "tickColor": "#000000",
         "tickSize": 5,
         "title": "X Axis Title (units)",
         "titleFont": "Arial",
         "titleFontSize": 16,
         "titlePadding": 10
        },
        "axisY": {
         "domain": false,
         "grid": true,
         "gridColor": "#DEDDDD",
         "gridWidth": 1,
         "labelAngle": 0,
         "labelFont": "Arial",
         "labelFontSize": 14,
         "title": "Y Axis Title (units)",
         "titleFont": "Arial",
         "titleFontSize": 16,
         "titlePadding": 10
        },
        "header": {
         "fontSize": 14,
         "labelFontSize": 14
        },
        "title": {
         "anchor": "start",
         "font": "Arial",
         "fontColor": "#000000",
         "fontSize": 24
        },
        "view": {
         "height": 300,
         "width": 400
        }
       },
       "data": {
        "format": {
         "type": "json"
        },
        "url": "altair-data-f9f2d787cf68a0c8be162a38be95886d.json"
       },
       "encoding": {
        "column": {
         "field": "age",
         "type": "nominal"
        },
        "x": {
         "axis": {
          "labelAngle": 45
         },
         "field": "Class",
         "type": "ordinal"
        },
        "y": {
         "aggregate": "count",
         "title": "Number of patients",
         "type": "quantitative"
        }
       },
       "height": 200,
       "mark": "bar",
       "title": "Recurrence class against patient's age",
       "width": 100
      },
      "image/png": "[encoded data removed]",
      "text/plain": [
       "<VegaLite 3 object>\n",
       "\n",
       "If you see this message, it means the renderer has not been properly enabled\n",
       "for the frontend that you are using. For more information, see\n",
       "https://altair-viz.github.io/user_guide/troubleshooting.html\n"
      ]
     },
     "execution_count": 15,
     "metadata": {},
     "output_type": "execute_result"
    }
   ],
   "source": [
    "plt3"
   ]
  },
  {
   "cell_type": "markdown",
   "metadata": {},
   "source": [
    "> People ranging from 50-59 are more likely to have breast cancers and their breast cancers are more likely to be non-recurrent."
   ]
  },
  {
   "cell_type": "code",
   "execution_count": 16,
   "metadata": {},
   "outputs": [
    {
     "data": {
      "application/vnd.vegalite.v3+json": {
       "$schema": "https://vega.github.io/schema/vega-lite/v3.4.0.json",
       "config": {
        "axisX": {
         "domain": true,
         "domainWidth": 1,
         "grid": false,
         "gridColor": "#DEDDDD",
         "labelAngle": 0,
         "labelFont": "Arial",
         "labelFontSize": 14,
         "tickColor": "#000000",
         "tickSize": 5,
         "title": "X Axis Title (units)",
         "titleFont": "Arial",
         "titleFontSize": 16,
         "titlePadding": 10
        },
        "axisY": {
         "domain": false,
         "grid": true,
         "gridColor": "#DEDDDD",
         "gridWidth": 1,
         "labelAngle": 0,
         "labelFont": "Arial",
         "labelFontSize": 14,
         "title": "Y Axis Title (units)",
         "titleFont": "Arial",
         "titleFontSize": 16,
         "titlePadding": 10
        },
        "header": {
         "fontSize": 14,
         "labelFontSize": 14
        },
        "title": {
         "anchor": "start",
         "font": "Arial",
         "fontColor": "#000000",
         "fontSize": 24
        },
        "view": {
         "height": 300,
         "width": 400
        }
       },
       "data": {
        "format": {
         "type": "json"
        },
        "url": "altair-data-f9f2d787cf68a0c8be162a38be95886d.json"
       },
       "encoding": {
        "column": {
         "field": "node_caps",
         "type": "nominal"
        },
        "x": {
         "axis": {
          "labelAngle": 45
         },
         "field": "Class",
         "type": "ordinal"
        },
        "y": {
         "aggregate": "count",
         "title": "Number of patients",
         "type": "quantitative"
        }
       },
       "height": 200,
       "mark": "bar",
       "title": "Recurrence class against patient's node_caps",
       "width": 100
      },
      "image/png": "[encoded data removed]",
      "text/plain": [
       "<VegaLite 3 object>\n",
       "\n",
       "If you see this message, it means the renderer has not been properly enabled\n",
       "for the frontend that you are using. For more information, see\n",
       "https://altair-viz.github.io/user_guide/troubleshooting.html\n"
      ]
     },
     "execution_count": 16,
     "metadata": {},
     "output_type": "execute_result"
    }
   ],
   "source": [
    "plt4"
   ]
  },
  {
   "cell_type": "code",
   "execution_count": 17,
   "metadata": {},
   "outputs": [
    {
     "data": {
      "application/vnd.vegalite.v3+json": {
       "$schema": "https://vega.github.io/schema/vega-lite/v3.4.0.json",
       "config": {
        "axisX": {
         "domain": true,
         "domainWidth": 1,
         "grid": false,
         "gridColor": "#DEDDDD",
         "labelAngle": 0,
         "labelFont": "Arial",
         "labelFontSize": 14,
         "tickColor": "#000000",
         "tickSize": 5,
         "title": "X Axis Title (units)",
         "titleFont": "Arial",
         "titleFontSize": 16,
         "titlePadding": 10
        },
        "axisY": {
         "domain": false,
         "grid": true,
         "gridColor": "#DEDDDD",
         "gridWidth": 1,
         "labelAngle": 0,
         "labelFont": "Arial",
         "labelFontSize": 14,
         "title": "Y Axis Title (units)",
         "titleFont": "Arial",
         "titleFontSize": 16,
         "titlePadding": 10
        },
        "header": {
         "fontSize": 14,
         "labelFontSize": 14
        },
        "title": {
         "anchor": "start",
         "font": "Arial",
         "fontColor": "#000000",
         "fontSize": 24
        },
        "view": {
         "height": 300,
         "width": 400
        }
       },
       "data": {
        "format": {
         "type": "json"
        },
        "url": "altair-data-f9f2d787cf68a0c8be162a38be95886d.json"
       },
       "encoding": {
        "column": {
         "field": "breast_quad",
         "type": "nominal"
        },
        "x": {
         "axis": {
          "labelAngle": 45
         },
         "field": "Class",
         "type": "ordinal"
        },
        "y": {
         "aggregate": "count",
         "title": "Number of patients",
         "type": "quantitative"
        }
       },
       "height": 200,
       "mark": "bar",
       "title": "Recurrence class against patient's breast_quad",
       "width": 100
      },
      "image/png": "[encoded data removed]",
      "text/plain": [
       "<VegaLite 3 object>\n",
       "\n",
       "If you see this message, it means the renderer has not been properly enabled\n",
       "for the frontend that you are using. For more information, see\n",
       "https://altair-viz.github.io/user_guide/troubleshooting.html\n"
      ]
     },
     "execution_count": 17,
     "metadata": {},
     "output_type": "execute_result"
    }
   ],
   "source": [
    "plt5"
   ]
  },
  {
   "cell_type": "markdown",
   "metadata": {},
   "source": [
    "> Cancers are more likely to grow on left low and left up position while they are least likely to grow an the central position. Position seems to do nothing with the whether recurrence or not."
   ]
  },
  {
   "cell_type": "code",
   "execution_count": 18,
   "metadata": {},
   "outputs": [
    {
     "data": {
      "application/vnd.vegalite.v3+json": {
       "$schema": "https://vega.github.io/schema/vega-lite/v3.4.0.json",
       "config": {
        "axisX": {
         "domain": true,
         "domainWidth": 1,
         "grid": false,
         "gridColor": "#DEDDDD",
         "labelAngle": 0,
         "labelFont": "Arial",
         "labelFontSize": 14,
         "tickColor": "#000000",
         "tickSize": 5,
         "title": "X Axis Title (units)",
         "titleFont": "Arial",
         "titleFontSize": 16,
         "titlePadding": 10
        },
        "axisY": {
         "domain": false,
         "grid": true,
         "gridColor": "#DEDDDD",
         "gridWidth": 1,
         "labelAngle": 0,
         "labelFont": "Arial",
         "labelFontSize": 14,
         "title": "Y Axis Title (units)",
         "titleFont": "Arial",
         "titleFontSize": 16,
         "titlePadding": 10
        },
        "header": {
         "fontSize": 14,
         "labelFontSize": 14
        },
        "title": {
         "anchor": "start",
         "font": "Arial",
         "fontColor": "#000000",
         "fontSize": 24
        },
        "view": {
         "height": 300,
         "width": 400
        }
       },
       "data": {
        "format": {
         "type": "json"
        },
        "url": "altair-data-f9f2d787cf68a0c8be162a38be95886d.json"
       },
       "encoding": {
        "column": {
         "field": "irradiat",
         "type": "nominal"
        },
        "x": {
         "axis": {
          "labelAngle": 45
         },
         "field": "Class",
         "type": "ordinal"
        },
        "y": {
         "aggregate": "count",
         "title": "Number of patients",
         "type": "quantitative"
        }
       },
       "height": 200,
       "mark": "bar",
       "title": "Recurrence class against patient's irradiat treatment",
       "width": 100
      },
      "image/png": "[encoded data removed]",
      "text/plain": [
       "<VegaLite 3 object>\n",
       "\n",
       "If you see this message, it means the renderer has not been properly enabled\n",
       "for the frontend that you are using. For more information, see\n",
       "https://altair-viz.github.io/user_guide/troubleshooting.html\n"
      ]
     },
     "execution_count": 18,
     "metadata": {},
     "output_type": "execute_result"
    }
   ],
   "source": [
    "plt6"
   ]
  },
  {
   "cell_type": "markdown",
   "metadata": {},
   "source": [
    "> Patients who have taken radiation therapy are more likely to have no recurrence events while patients who have not taken radiation therapy are more likely to have recurrence events."
   ]
  },
  {
   "cell_type": "code",
   "execution_count": 19,
   "metadata": {},
   "outputs": [
    {
     "data": {
      "application/vnd.vegalite.v3+json": {
       "$schema": "https://vega.github.io/schema/vega-lite/v3.4.0.json",
       "config": {
        "axisX": {
         "domain": true,
         "domainWidth": 1,
         "grid": false,
         "gridColor": "#DEDDDD",
         "labelAngle": 0,
         "labelFont": "Arial",
         "labelFontSize": 14,
         "tickColor": "#000000",
         "tickSize": 5,
         "title": "X Axis Title (units)",
         "titleFont": "Arial",
         "titleFontSize": 16,
         "titlePadding": 10
        },
        "axisY": {
         "domain": false,
         "grid": true,
         "gridColor": "#DEDDDD",
         "gridWidth": 1,
         "labelAngle": 0,
         "labelFont": "Arial",
         "labelFontSize": 14,
         "title": "Y Axis Title (units)",
         "titleFont": "Arial",
         "titleFontSize": 16,
         "titlePadding": 10
        },
        "header": {
         "fontSize": 14,
         "labelFontSize": 14
        },
        "title": {
         "anchor": "start",
         "font": "Arial",
         "fontColor": "#000000",
         "fontSize": 24
        },
        "view": {
         "height": 300,
         "width": 400
        }
       },
       "data": {
        "format": {
         "type": "json"
        },
        "url": "altair-data-f9f2d787cf68a0c8be162a38be95886d.json"
       },
       "encoding": {
        "color": {
         "field": "Class",
         "type": "nominal"
        },
        "x": {
         "bin": {},
         "field": "avg_tumor_size",
         "title": "average tumor size",
         "type": "quantitative"
        },
        "y": {
         "aggregate": "count",
         "stack": null,
         "type": "quantitative"
        }
       },
       "mark": {
        "interpolate": "step",
        "opacity": 0.3,
        "type": "area"
       }
      },
      "image/png": "[encoded data removed]",
      "text/plain": [
       "<VegaLite 3 object>\n",
       "\n",
       "If you see this message, it means the renderer has not been properly enabled\n",
       "for the frontend that you are using. For more information, see\n",
       "https://altair-viz.github.io/user_guide/troubleshooting.html\n"
      ]
     },
     "execution_count": 19,
     "metadata": {},
     "output_type": "execute_result"
    }
   ],
   "source": [
    "alt.Chart(df_train).mark_area(\n",
    "    opacity=0.3,\n",
    "    interpolate='step',\n",
    ").encode(\n",
    "    alt.X(\"avg_tumor_size:Q\", bin=alt.Bin(), title = \"average tumor size\"),\n",
    "    alt.Y('count()', stack=None),\n",
    "    alt.Color('Class')\n",
    ")"
   ]
  },
  {
   "cell_type": "markdown",
   "metadata": {},
   "source": [
    "> The distribution of average tumor size is approximately normally distributed. Patients who have tumor with average size between 20-25 is more likely to be non-recurrent."
   ]
  },
  {
   "cell_type": "code",
   "execution_count": null,
   "metadata": {},
   "outputs": [],
   "source": []
  },
  {
   "cell_type": "code",
   "execution_count": null,
   "metadata": {},
   "outputs": [],
   "source": []
  }
 ],
 "metadata": {
  "kernelspec": {
   "display_name": "Python 3",
   "language": "python",
   "name": "python3"
  },
  "language_info": {
   "codemirror_mode": {
    "name": "ipython",
    "version": 3
   },
   "file_extension": ".py",
   "mimetype": "text/x-python",
   "name": "python",
   "nbconvert_exporter": "python",
   "pygments_lexer": "ipython3",
   "version": "3.7.4"
  }
 },
 "nbformat": 4,
 "nbformat_minor": 4
}
