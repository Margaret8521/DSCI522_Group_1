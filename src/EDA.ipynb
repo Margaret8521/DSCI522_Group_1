{
 "cells": [
  {
   "cell_type": "markdown",
   "metadata": {},
   "source": [
    "# Exploratory data analysis¶"
   ]
  },
  {
   "cell_type": "code",
   "execution_count": 1,
   "metadata": {},
   "outputs": [
    {
     "data": {
      "text/plain": [
       "DataTransformerRegistry.enable('json')"
      ]
     },
     "execution_count": 1,
     "metadata": {},
     "output_type": "execute_result"
    }
   ],
   "source": [
    "# Load Packages\n",
    "import pandas as pd\n",
    "import altair as alt \n",
    "import matplotlib as plt\n",
    "import numpy as np\n",
    "from sklearn.model_selection import train_test_split\n",
    "alt.data_transformers.enable('json')"
   ]
  },
  {
   "cell_type": "code",
   "execution_count": 2,
   "metadata": {},
   "outputs": [
    {
     "data": {
      "text/plain": [
       "ThemeRegistry.enable('mds_special')"
      ]
     },
     "execution_count": 2,
     "metadata": {},
     "output_type": "execute_result"
    }
   ],
   "source": [
    "def mds_special():\n",
    "    font = \"Arial\"\n",
    "    axisColor = \"#000000\"\n",
    "    gridColor = \"#DEDDDD\"\n",
    "    return {\n",
    "        \"config\": {\n",
    "            \"title\": {\n",
    "                \"fontSize\": 24,\n",
    "                \"font\": font,\n",
    "                \"anchor\": \"start\", # equivalent of left-aligned.\n",
    "                \"fontColor\": \"#000000\"\n",
    "            },\n",
    "            \"header\": {\n",
    "                \"fontSize\": 14,\n",
    "                \"labelFontSize\": 14,\n",
    "                \"titleFontSize\": 14\n",
    "            },\n",
    "            \"legend\": {\n",
    "                \"fontSize\": 14,\n",
    "                \"labelFontSize\": 14,\n",
    "                \"titleFontSize\": 14\n",
    "            },\n",
    "            'view': {\n",
    "                \"height\": 300, \n",
    "                \"width\": 400\n",
    "            },\n",
    "            \"axisX\": {\n",
    "                \"domain\": True,\n",
    "                #\"domainColor\": axisColor,\n",
    "                \"gridColor\": gridColor,\n",
    "                \"domainWidth\": 1,\n",
    "                \"grid\": False,\n",
    "                \"labelFont\": font,\n",
    "                \"labelFontSize\": 14,\n",
    "                \"labelAngle\": 0, \n",
    "                \"tickColor\": axisColor,\n",
    "                \"tickSize\": 5, # default, including it just to show you can change it\n",
    "                \"titleFont\": font,\n",
    "                \"titleFontSize\": 16,\n",
    "                \"titlePadding\": 10, # guessing, not specified in styleguide\n",
    "                \"title\": \"X Axis Title (units)\", \n",
    "            },\n",
    "            \"axisY\": {\n",
    "                \"domain\": False,\n",
    "                \"grid\": True,\n",
    "                \"gridColor\": gridColor,\n",
    "                \"gridWidth\": 1,\n",
    "                \"labelFont\": font,\n",
    "                \"labelFontSize\": 14,\n",
    "                \"labelAngle\": 0, \n",
    "                #\"ticks\": False, # even if you don't have a \"domain\" you need to turn these off.\n",
    "                \"titleFont\": font,\n",
    "                \"titleFontSize\": 16,\n",
    "                \"titlePadding\": 10, # guessing, not specified in styleguide\n",
    "                \"title\": \"Y Axis Title (units)\", \n",
    "                # titles are by default vertical left of axis so we need to hack this \n",
    "                #\"titleAngle\": 0, # horizontal\n",
    "                #\"titleY\": -10, # move it up\n",
    "                #\"titleX\": 18, # move it to the right so it aligns with the labels \n",
    "            },\n",
    "        }\n",
    "            }\n",
    "\n",
    "# register the custom theme under a chosen name\n",
    "alt.themes.register('mds_special', mds_special)\n",
    "\n",
    "# enable the newly registered theme\n",
    "alt.themes.enable('mds_special')\n",
    "#alt.themes.enable('none') # to return to default"
   ]
  },
  {
   "cell_type": "markdown",
   "metadata": {},
   "source": [
    "## 1. Describe the dataset\n",
    "\n",
    "- The Breast Cancer Data Set is obtained from [UCI Machine Learning Repository](https://archive.ics.uci.edu/ml/datasets/Breast+Cancer).\n",
    "\n",
    "- This is one of three domains provided by the Oncology Institute that has repeatedly appeared in the machine learning literature.\n",
    "     (See also lymphography and primary-tumor.)\n",
    "     \n",
    "- This data set includes 201 instances of one class and 85 instances of another class. The instances are described by 9 attributes, some of which are linear and some are nominal."
   ]
  },
  {
   "cell_type": "markdown",
   "metadata": {},
   "source": [
    "## 2. Load the dataset "
   ]
  },
  {
   "cell_type": "code",
   "execution_count": 3,
   "metadata": {},
   "outputs": [],
   "source": [
    "# Load the dataset \n",
    "# breast_quad: the quadrant of the breast\n",
    "df = pd.read_csv(\"../data/raw_data/breast_cancer_raw.csv\")\n",
    "df.columns = [\"Class\", \"age\", \"menopause\", \"tumor_size\", \"inv_nodes\", \"node_caps\", \"deg_malig\", \"breast\", \"breast_quad\", \"irradiat\"]\n",
    "# Replace ? with NaN because it's easier to work with them \n",
    "df = df.replace('?', np.nan)\n",
    "# Split data \n",
    "df_train, df_test = train_test_split(df, test_size=0.20, random_state=100)"
   ]
  },
  {
   "cell_type": "code",
   "execution_count": 4,
   "metadata": {},
   "outputs": [
    {
     "data": {
      "text/html": [
       "<div>\n",
       "<style scoped>\n",
       "    .dataframe tbody tr th:only-of-type {\n",
       "        vertical-align: middle;\n",
       "    }\n",
       "\n",
       "    .dataframe tbody tr th {\n",
       "        vertical-align: top;\n",
       "    }\n",
       "\n",
       "    .dataframe thead th {\n",
       "        text-align: right;\n",
       "    }\n",
       "</style>\n",
       "<table border=\"1\" class=\"dataframe\">\n",
       "  <thead>\n",
       "    <tr style=\"text-align: right;\">\n",
       "      <th></th>\n",
       "      <th>Class</th>\n",
       "      <th>age</th>\n",
       "      <th>menopause</th>\n",
       "      <th>tumor_size</th>\n",
       "      <th>inv_nodes</th>\n",
       "      <th>node_caps</th>\n",
       "      <th>deg_malig</th>\n",
       "      <th>breast</th>\n",
       "      <th>breast_quad</th>\n",
       "      <th>irradiat</th>\n",
       "    </tr>\n",
       "  </thead>\n",
       "  <tbody>\n",
       "    <tr>\n",
       "      <th>236</th>\n",
       "      <td>recurrence-events</td>\n",
       "      <td>30-39</td>\n",
       "      <td>premeno</td>\n",
       "      <td>35-39</td>\n",
       "      <td>0-2</td>\n",
       "      <td>no</td>\n",
       "      <td>3</td>\n",
       "      <td>left</td>\n",
       "      <td>left_low</td>\n",
       "      <td>no</td>\n",
       "    </tr>\n",
       "    <tr>\n",
       "      <th>134</th>\n",
       "      <td>no-recurrence-events</td>\n",
       "      <td>30-39</td>\n",
       "      <td>premeno</td>\n",
       "      <td>40-44</td>\n",
       "      <td>3-5</td>\n",
       "      <td>no</td>\n",
       "      <td>3</td>\n",
       "      <td>right</td>\n",
       "      <td>right_up</td>\n",
       "      <td>yes</td>\n",
       "    </tr>\n",
       "    <tr>\n",
       "      <th>88</th>\n",
       "      <td>no-recurrence-events</td>\n",
       "      <td>30-39</td>\n",
       "      <td>premeno</td>\n",
       "      <td>0-4</td>\n",
       "      <td>0-2</td>\n",
       "      <td>no</td>\n",
       "      <td>2</td>\n",
       "      <td>right</td>\n",
       "      <td>central</td>\n",
       "      <td>no</td>\n",
       "    </tr>\n",
       "    <tr>\n",
       "      <th>225</th>\n",
       "      <td>recurrence-events</td>\n",
       "      <td>50-59</td>\n",
       "      <td>premeno</td>\n",
       "      <td>30-34</td>\n",
       "      <td>0-2</td>\n",
       "      <td>no</td>\n",
       "      <td>3</td>\n",
       "      <td>right</td>\n",
       "      <td>left_up</td>\n",
       "      <td>yes</td>\n",
       "    </tr>\n",
       "    <tr>\n",
       "      <th>31</th>\n",
       "      <td>no-recurrence-events</td>\n",
       "      <td>50-59</td>\n",
       "      <td>ge40</td>\n",
       "      <td>10-14</td>\n",
       "      <td>0-2</td>\n",
       "      <td>no</td>\n",
       "      <td>1</td>\n",
       "      <td>right</td>\n",
       "      <td>left_up</td>\n",
       "      <td>no</td>\n",
       "    </tr>\n",
       "  </tbody>\n",
       "</table>\n",
       "</div>"
      ],
      "text/plain": [
       "                    Class    age menopause tumor_size inv_nodes node_caps  \\\n",
       "236     recurrence-events  30-39   premeno      35-39       0-2        no   \n",
       "134  no-recurrence-events  30-39   premeno      40-44       3-5        no   \n",
       "88   no-recurrence-events  30-39   premeno        0-4       0-2        no   \n",
       "225     recurrence-events  50-59   premeno      30-34       0-2        no   \n",
       "31   no-recurrence-events  50-59      ge40      10-14       0-2        no   \n",
       "\n",
       "     deg_malig breast breast_quad irradiat  \n",
       "236          3   left    left_low       no  \n",
       "134          3  right    right_up      yes  \n",
       "88           2  right     central       no  \n",
       "225          3  right     left_up      yes  \n",
       "31           1  right     left_up       no  "
      ]
     },
     "execution_count": 4,
     "metadata": {},
     "output_type": "execute_result"
    }
   ],
   "source": [
    "df_train.head()"
   ]
  },
  {
   "cell_type": "markdown",
   "metadata": {},
   "source": [
    "## 3. Explore the dataset "
   ]
  },
  {
   "cell_type": "code",
   "execution_count": 5,
   "metadata": {},
   "outputs": [
    {
     "name": "stdout",
     "output_type": "stream",
     "text": [
      "- There are two classes of breast cancer:  ['recurrence-events', 'no-recurrence-events'] \n",
      "\n",
      "- The groups of age are:  ['20-29', '30-39', '40-49', '50-59', '60-69', '70-79'] \n",
      "\n",
      "- The menopause times are:  ['premeno', 'ge40', 'lt40'] \n",
      "\n",
      "- The groups of patients' tumor size are: ['35-39', '40-44', '0-4', '30-34', '10-14', '15-19', '20-24', '25-29', '50-54', '5-9', '45-49'] \n",
      "\n",
      "- The ranges of the number of axillary lymph nodes that contain metastatic breast cancer visible on histological examinationare are:  ['0-2', '3-5', '6-8', '15-17', '24-26', '9-11', '12-14'] \n",
      "\n",
      "- The degree of malignancy ranging form 1-3 \n",
      "\n",
      "- There are 56 patient's node is present in cap of the breast out of 222 \n",
      "\n",
      "- The quadrants of the breast are:  ['left_low', 'right_up', 'central', 'left_up', 'right_low'] \n",
      "\n",
      "- There are 68 patients are used to be treated with radiation therapy while 174 patients are not \n",
      "\n"
     ]
    }
   ],
   "source": [
    "print(\"- There are two classes of breast cancer: \", list(df_train[\"Class\"].dropna().unique()), \"\\n\")\n",
    "print(\"- The groups of age are: \", sorted(list(df_train[\"age\"].dropna().unique())), \"\\n\")\n",
    "print(\"- The menopause times are: \", list(df_train[\"menopause\"].dropna().unique()), \"\\n\")\n",
    "print(\"- The groups of patients' tumor size are:\", list(df_train[\"tumor_size\"].dropna().unique()), \"\\n\") \n",
    "print(\"- The ranges of the number of axillary lymph nodes that contain metastatic breast cancer visible on histological examinationare are: \"\\\n",
    "      , list(df_train[\"inv_nodes\"].dropna().unique()), \"\\n\")\n",
    "print(\"- The degree of malignancy ranging form {0}-{1}\".format(df_train[\"deg_malig\"].dropna().min(), df_train[\"deg_malig\"].max()), \"\\n\") \n",
    "print(\"- There are {0} patient's node is present in cap of the breast out of {1}\".format(df[df[\"node_caps\"] == 'yes'][\"node_caps\"].count(), df_train[\"node_caps\"].count()), \"\\n\") \n",
    "print(\"- The quadrants of the breast are: \", list(df_train[\"breast_quad\"].dropna().unique()), \"\\n\")\n",
    "print(\"- There are {0} patients are used to be treated with radiation therapy while {1} patients are not\".format(df[df[\"irradiat\"] == 'yes'][\"irradiat\"].count(), df_train[df_train[\"irradiat\"] == 'no'][\"irradiat\"].count()), \"\\n\") \n",
    "\n",
    "# deg_malig: Degree of malignancy\n",
    "# inv_nodes: the number (range 0 - 39) of axillary lymph nodes that contain metastatic breast cancer visible on histological examination\n",
    "# node_caps: if the cancer does metastasise to a lymph node, although outside the original site of the tumor it may remain “contained” \n",
    "#           by the capsule of the lymph node. However, over time, and with more aggressive disease, the tumor may replace the lymph node \n",
    "#           and then penetrate the capsule, allowing it to invade the surrounding tissues;"
   ]
  },
  {
   "cell_type": "code",
   "execution_count": 6,
   "metadata": {},
   "outputs": [
    {
     "name": "stdout",
     "output_type": "stream",
     "text": [
      "<class 'pandas.core.frame.DataFrame'>\n",
      "Int64Index: 227 entries, 236 to 8\n",
      "Data columns (total 10 columns):\n",
      "Class          227 non-null object\n",
      "age            227 non-null object\n",
      "menopause      227 non-null object\n",
      "tumor_size     227 non-null object\n",
      "inv_nodes      227 non-null object\n",
      "node_caps      222 non-null object\n",
      "deg_malig      227 non-null int64\n",
      "breast         227 non-null object\n",
      "breast_quad    226 non-null object\n",
      "irradiat       227 non-null object\n",
      "dtypes: int64(1), object(9)\n",
      "memory usage: 19.5+ KB\n"
     ]
    }
   ],
   "source": [
    "# View the training dataset \n",
    "df_train.info() "
   ]
  },
  {
   "cell_type": "code",
   "execution_count": 7,
   "metadata": {},
   "outputs": [
    {
     "data": {
      "text/html": [
       "<div>\n",
       "<style scoped>\n",
       "    .dataframe tbody tr th:only-of-type {\n",
       "        vertical-align: middle;\n",
       "    }\n",
       "\n",
       "    .dataframe tbody tr th {\n",
       "        vertical-align: top;\n",
       "    }\n",
       "\n",
       "    .dataframe thead th {\n",
       "        text-align: right;\n",
       "    }\n",
       "</style>\n",
       "<table border=\"1\" class=\"dataframe\">\n",
       "  <thead>\n",
       "    <tr style=\"text-align: right;\">\n",
       "      <th></th>\n",
       "      <th>deg_malig</th>\n",
       "    </tr>\n",
       "  </thead>\n",
       "  <tbody>\n",
       "    <tr>\n",
       "      <th>count</th>\n",
       "      <td>227.000000</td>\n",
       "    </tr>\n",
       "    <tr>\n",
       "      <th>mean</th>\n",
       "      <td>2.052863</td>\n",
       "    </tr>\n",
       "    <tr>\n",
       "      <th>std</th>\n",
       "      <td>0.732814</td>\n",
       "    </tr>\n",
       "    <tr>\n",
       "      <th>min</th>\n",
       "      <td>1.000000</td>\n",
       "    </tr>\n",
       "    <tr>\n",
       "      <th>25%</th>\n",
       "      <td>2.000000</td>\n",
       "    </tr>\n",
       "    <tr>\n",
       "      <th>50%</th>\n",
       "      <td>2.000000</td>\n",
       "    </tr>\n",
       "    <tr>\n",
       "      <th>75%</th>\n",
       "      <td>3.000000</td>\n",
       "    </tr>\n",
       "    <tr>\n",
       "      <th>max</th>\n",
       "      <td>3.000000</td>\n",
       "    </tr>\n",
       "  </tbody>\n",
       "</table>\n",
       "</div>"
      ],
      "text/plain": [
       "        deg_malig\n",
       "count  227.000000\n",
       "mean     2.052863\n",
       "std      0.732814\n",
       "min      1.000000\n",
       "25%      2.000000\n",
       "50%      2.000000\n",
       "75%      3.000000\n",
       "max      3.000000"
      ]
     },
     "execution_count": 7,
     "metadata": {},
     "output_type": "execute_result"
    }
   ],
   "source": [
    "df_train.describe() "
   ]
  },
  {
   "cell_type": "markdown",
   "metadata": {},
   "source": [
    "## 4. Initial thought \n",
    "> - There are 227 examples in the training dataset where `node_caps` has 5 missing and `breast_quad` has 1 missing value. \n",
    "> - There is one numerical variable `deg_malig` and 9 categorical variables.\n",
    "> - The training dataset is unbalance."
   ]
  },
  {
   "cell_type": "markdown",
   "metadata": {},
   "source": [
    "## 5. Wrangling"
   ]
  },
  {
   "cell_type": "code",
   "execution_count": 8,
   "metadata": {},
   "outputs": [
    {
     "name": "stderr",
     "output_type": "stream",
     "text": [
      "C:\\Users\\flizh\\Anaconda3\\lib\\site-packages\\ipykernel_launcher.py:9: SettingWithCopyWarning: \n",
      "A value is trying to be set on a copy of a slice from a DataFrame.\n",
      "Try using .loc[row_indexer,col_indexer] = value instead\n",
      "\n",
      "See the caveats in the documentation: http://pandas.pydata.org/pandas-docs/stable/user_guide/indexing.html#returning-a-view-versus-a-copy\n",
      "  if __name__ == '__main__':\n"
     ]
    }
   ],
   "source": [
    "# Average the tumor size\n",
    "tumor_size_str_lst = [i.split('-', 1) for i in list(df_train[\"tumor_size\"])]\n",
    "tumor_size_int_lst = []\n",
    "tumor_size_avg_lst = []\n",
    "for i in range(len(tumor_size_str_lst)):\n",
    "    tumor_size_int_lst.append([int(j) for j in tumor_size_str_lst[i]])\n",
    "for i in range(len(tumor_size_int_lst)):\n",
    "    tumor_size_avg_lst.append(sum(tumor_size_int_lst[i])/len(tumor_size_int_lst[i]))\n",
    "df_train[\"avg_tumor_size\"] = tumor_size_avg_lst\n",
    "df_train = df_train.drop(columns = [\"tumor_size\"])\n",
    "\n",
    "# Drop missing values\n",
    "df_train = df_train.dropna()\n",
    "# Store clean training dataset\n",
    "df_train.to_csv(\"../data/clean_data/breast_cancer_clean_train.csv\", index=False)"
   ]
  },
  {
   "cell_type": "markdown",
   "metadata": {},
   "source": [
    "## 6. Data Analysis & Visualizations"
   ]
  },
  {
   "cell_type": "code",
   "execution_count": 9,
   "metadata": {},
   "outputs": [
    {
     "data": {
      "text/html": [
       "<div>\n",
       "<style scoped>\n",
       "    .dataframe tbody tr th:only-of-type {\n",
       "        vertical-align: middle;\n",
       "    }\n",
       "\n",
       "    .dataframe tbody tr th {\n",
       "        vertical-align: top;\n",
       "    }\n",
       "\n",
       "    .dataframe thead th {\n",
       "        text-align: right;\n",
       "    }\n",
       "</style>\n",
       "<table border=\"1\" class=\"dataframe\">\n",
       "  <thead>\n",
       "    <tr style=\"text-align: right;\">\n",
       "      <th></th>\n",
       "      <th>Class</th>\n",
       "      <th>Number</th>\n",
       "      <th>Portion</th>\n",
       "    </tr>\n",
       "  </thead>\n",
       "  <tbody>\n",
       "    <tr>\n",
       "      <th>0</th>\n",
       "      <td>recurrence-events</td>\n",
       "      <td>62</td>\n",
       "      <td>0.280543</td>\n",
       "    </tr>\n",
       "    <tr>\n",
       "      <th>1</th>\n",
       "      <td>no-recurrence-events</td>\n",
       "      <td>159</td>\n",
       "      <td>0.719457</td>\n",
       "    </tr>\n",
       "  </tbody>\n",
       "</table>\n",
       "</div>"
      ],
      "text/plain": [
       "                  Class  Number   Portion\n",
       "0     recurrence-events      62  0.280543\n",
       "1  no-recurrence-events     159  0.719457"
      ]
     },
     "execution_count": 9,
     "metadata": {},
     "output_type": "execute_result"
    }
   ],
   "source": [
    "rec = df_train.query('Class == \"recurrence-events\"')['Class'].count()\n",
    "nrec = df_train.query('Class == \"no-recurrence-events\"')['Class'].count()\n",
    "\n",
    "pd.DataFrame({'Class': ['recurrence-events', 'no-recurrence-events'],\n",
    "              'Number': [rec, nrec],\n",
    "              'Portion': [rec/(rec + nrec), nrec/(rec + nrec)]})"
   ]
  },
  {
   "cell_type": "code",
   "execution_count": 10,
   "metadata": {},
   "outputs": [],
   "source": [
    "# Plot1: no-recurrence-events VS recurrence-events\n",
    "plt1 = alt.Chart(df_train).mark_bar().encode(\n",
    "    alt.X(\"Class:N\"),\n",
    "    alt.Y(\"count()\", title = \"Number of patients\"),\n",
    ").properties(width=300, height=200, title = \"no-recurrence-events VS recurrence-events\")"
   ]
  },
  {
   "cell_type": "code",
   "execution_count": 11,
   "metadata": {},
   "outputs": [
    {
     "data": {
      "application/vnd.vegalite.v3+json": {
       "$schema": "https://vega.github.io/schema/vega-lite/v3.4.0.json",
       "config": {
        "axisX": {
         "domain": true,
         "domainWidth": 1,
         "grid": false,
         "gridColor": "#DEDDDD",
         "labelAngle": 0,
         "labelFont": "Arial",
         "labelFontSize": 14,
         "tickColor": "#000000",
         "tickSize": 5,
         "title": "X Axis Title (units)",
         "titleFont": "Arial",
         "titleFontSize": 16,
         "titlePadding": 10
        },
        "axisY": {
         "domain": false,
         "grid": true,
         "gridColor": "#DEDDDD",
         "gridWidth": 1,
         "labelAngle": 0,
         "labelFont": "Arial",
         "labelFontSize": 14,
         "title": "Y Axis Title (units)",
         "titleFont": "Arial",
         "titleFontSize": 16,
         "titlePadding": 10
        },
        "header": {
         "fontSize": 14,
         "labelFontSize": 14,
         "titleFontSize": 14
        },
        "legend": {
         "fontSize": 14,
         "labelFontSize": 14,
         "titleFontSize": 14
        },
        "title": {
         "anchor": "start",
         "font": "Arial",
         "fontColor": "#000000",
         "fontSize": 24
        },
        "view": {
         "height": 300,
         "width": 400
        }
       },
       "data": {
        "format": {
         "type": "json"
        },
        "url": "altair-data-b2b043087a578c6cd98b1297c3521913.json"
       },
       "encoding": {
        "x": {
         "field": "Class",
         "type": "nominal"
        },
        "y": {
         "aggregate": "count",
         "title": "Number of patients",
         "type": "quantitative"
        }
       },
       "height": 200,
       "mark": "bar",
       "title": "no-recurrence-events VS recurrence-events",
       "width": 300
      },
      "image/png": "[encoded data removed]",
      "text/plain": [
       "<VegaLite 3 object>\n",
       "\n",
       "If you see this message, it means the renderer has not been properly enabled\n",
       "for the frontend that you are using. For more information, see\n",
       "https://altair-viz.github.io/user_guide/troubleshooting.html\n"
      ]
     },
     "execution_count": 11,
     "metadata": {},
     "output_type": "execute_result"
    }
   ],
   "source": [
    "plt1"
   ]
  },
  {
   "cell_type": "markdown",
   "metadata": {},
   "source": [
    "> Most breast cancer are non-current. The occurrence of no recurrent events is approximately as three times as many then the occurrence of recurrent events. The dataset is unbalance."
   ]
  },
  {
   "cell_type": "code",
   "execution_count": 12,
   "metadata": {},
   "outputs": [],
   "source": [
    "# Plot all categorical features against targets\n",
    "def plot_categorical(feature_name, title_name):\n",
    "    '''\n",
    "    Make a bar plot of feature_name with the title of title_name\n",
    "    \n",
    "    Parameters\n",
    "    ---\n",
    "    feature_name: Str\n",
    "        the name to be used as feature\n",
    "    title_name: Str\n",
    "        the name to be used as title \n",
    "    '''\n",
    "    plt = alt.Chart(df_train).mark_bar().encode(\n",
    "        alt.X(feature_name, type = 'nominal', axis = alt.Axis(labelAngle = 45), title=feature_name),\n",
    "        alt.Y(\"count()\", title = \"Number of patients\"),\n",
    "        alt.Column(\"Class\")\n",
    "    ).properties(width=200, height=200, title = title_name)\n",
    "    \n",
    "    return plt"
   ]
  },
  {
   "cell_type": "code",
   "execution_count": 13,
   "metadata": {},
   "outputs": [],
   "source": [
    "# Plot 2-7\n",
    "plt2 = plot_categorical(\"menopause\", \"Recurrence vs. menopause\")\n",
    "plt3 = plot_categorical(\"age\", \"Recurrence vs. age\")\n",
    "plt4 = plot_categorical(\"node_caps\", \"Recurrence vs. node_caps\")\n",
    "plt5 = plot_categorical(\"deg_malig\", \"Recurrence vs. deg_malig\")\n",
    "plt6 = plot_categorical(\"breast_quad\", \"Recurrence vs. breast_quad\")\n",
    "plt7 = plot_categorical(\"irradiat\", \"Recurrence vs. irradiat treatment\")"
   ]
  },
  {
   "cell_type": "code",
   "execution_count": 14,
   "metadata": {},
   "outputs": [
    {
     "data": {
      "application/vnd.vegalite.v3+json": {
       "$schema": "https://vega.github.io/schema/vega-lite/v3.4.0.json",
       "config": {
        "axisX": {
         "domain": true,
         "domainWidth": 1,
         "grid": false,
         "gridColor": "#DEDDDD",
         "labelAngle": 0,
         "labelFont": "Arial",
         "labelFontSize": 14,
         "tickColor": "#000000",
         "tickSize": 5,
         "title": "X Axis Title (units)",
         "titleFont": "Arial",
         "titleFontSize": 16,
         "titlePadding": 10
        },
        "axisY": {
         "domain": false,
         "grid": true,
         "gridColor": "#DEDDDD",
         "gridWidth": 1,
         "labelAngle": 0,
         "labelFont": "Arial",
         "labelFontSize": 14,
         "title": "Y Axis Title (units)",
         "titleFont": "Arial",
         "titleFontSize": 16,
         "titlePadding": 10
        },
        "header": {
         "fontSize": 14,
         "labelFontSize": 14,
         "titleFontSize": 14
        },
        "legend": {
         "fontSize": 14,
         "labelFontSize": 14,
         "titleFontSize": 14
        },
        "title": {
         "anchor": "start",
         "font": "Arial",
         "fontColor": "#000000",
         "fontSize": 24
        },
        "view": {
         "height": 300,
         "width": 400
        }
       },
       "data": {
        "format": {
         "type": "json"
        },
        "url": "altair-data-b2b043087a578c6cd98b1297c3521913.json"
       },
       "encoding": {
        "column": {
         "field": "Class",
         "type": "nominal"
        },
        "x": {
         "axis": {
          "labelAngle": 45
         },
         "field": "menopause",
         "title": "menopause",
         "type": "nominal"
        },
        "y": {
         "aggregate": "count",
         "title": "Number of patients",
         "type": "quantitative"
        }
       },
       "height": 200,
       "mark": "bar",
       "title": "Recurrence vs. menopause",
       "width": 200
      },
      "image/png": "[encoded data removed]",
      "text/plain": [
       "<VegaLite 3 object>\n",
       "\n",
       "If you see this message, it means the renderer has not been properly enabled\n",
       "for the frontend that you are using. For more information, see\n",
       "https://altair-viz.github.io/user_guide/troubleshooting.html\n"
      ]
     },
     "execution_count": 14,
     "metadata": {},
     "output_type": "execute_result"
    }
   ],
   "source": [
    "plt2"
   ]
  },
  {
   "cell_type": "markdown",
   "metadata": {},
   "source": [
    "> Only a few patients in the train data set end menstrual cycles before 40. Patients of the `Premeno` category are more likely to have breast cancer recurrence events."
   ]
  },
  {
   "cell_type": "code",
   "execution_count": 15,
   "metadata": {},
   "outputs": [
    {
     "data": {
      "application/vnd.vegalite.v3+json": {
       "$schema": "https://vega.github.io/schema/vega-lite/v3.4.0.json",
       "config": {
        "axisX": {
         "domain": true,
         "domainWidth": 1,
         "grid": false,
         "gridColor": "#DEDDDD",
         "labelAngle": 0,
         "labelFont": "Arial",
         "labelFontSize": 14,
         "tickColor": "#000000",
         "tickSize": 5,
         "title": "X Axis Title (units)",
         "titleFont": "Arial",
         "titleFontSize": 16,
         "titlePadding": 10
        },
        "axisY": {
         "domain": false,
         "grid": true,
         "gridColor": "#DEDDDD",
         "gridWidth": 1,
         "labelAngle": 0,
         "labelFont": "Arial",
         "labelFontSize": 14,
         "title": "Y Axis Title (units)",
         "titleFont": "Arial",
         "titleFontSize": 16,
         "titlePadding": 10
        },
        "header": {
         "fontSize": 14,
         "labelFontSize": 14,
         "titleFontSize": 14
        },
        "legend": {
         "fontSize": 14,
         "labelFontSize": 14,
         "titleFontSize": 14
        },
        "title": {
         "anchor": "start",
         "font": "Arial",
         "fontColor": "#000000",
         "fontSize": 24
        },
        "view": {
         "height": 300,
         "width": 400
        }
       },
       "data": {
        "format": {
         "type": "json"
        },
        "url": "altair-data-b2b043087a578c6cd98b1297c3521913.json"
       },
       "encoding": {
        "column": {
         "field": "Class",
         "type": "nominal"
        },
        "x": {
         "axis": {
          "labelAngle": 45
         },
         "field": "age",
         "title": "age",
         "type": "nominal"
        },
        "y": {
         "aggregate": "count",
         "title": "Number of patients",
         "type": "quantitative"
        }
       },
       "height": 200,
       "mark": "bar",
       "title": "Recurrence vs. age",
       "width": 200
      },
      "image/png": "[encoded data removed]",
      "text/plain": [
       "<VegaLite 3 object>\n",
       "\n",
       "If you see this message, it means the renderer has not been properly enabled\n",
       "for the frontend that you are using. For more information, see\n",
       "https://altair-viz.github.io/user_guide/troubleshooting.html\n"
      ]
     },
     "execution_count": 15,
     "metadata": {},
     "output_type": "execute_result"
    }
   ],
   "source": [
    "plt3"
   ]
  },
  {
   "cell_type": "markdown",
   "metadata": {},
   "source": [
    "> Most patients in the train data set are in the age 50-59 group and their breast cancers are more likely to be non-recurrent. Patients at ages 30-39 are more likely to have breast cancer recurrence than other age groups."
   ]
  },
  {
   "cell_type": "code",
   "execution_count": 16,
   "metadata": {},
   "outputs": [
    {
     "data": {
      "application/vnd.vegalite.v3+json": {
       "$schema": "https://vega.github.io/schema/vega-lite/v3.4.0.json",
       "config": {
        "axisX": {
         "domain": true,
         "domainWidth": 1,
         "grid": false,
         "gridColor": "#DEDDDD",
         "labelAngle": 0,
         "labelFont": "Arial",
         "labelFontSize": 14,
         "tickColor": "#000000",
         "tickSize": 5,
         "title": "X Axis Title (units)",
         "titleFont": "Arial",
         "titleFontSize": 16,
         "titlePadding": 10
        },
        "axisY": {
         "domain": false,
         "grid": true,
         "gridColor": "#DEDDDD",
         "gridWidth": 1,
         "labelAngle": 0,
         "labelFont": "Arial",
         "labelFontSize": 14,
         "title": "Y Axis Title (units)",
         "titleFont": "Arial",
         "titleFontSize": 16,
         "titlePadding": 10
        },
        "header": {
         "fontSize": 14,
         "labelFontSize": 14,
         "titleFontSize": 14
        },
        "legend": {
         "fontSize": 14,
         "labelFontSize": 14,
         "titleFontSize": 14
        },
        "title": {
         "anchor": "start",
         "font": "Arial",
         "fontColor": "#000000",
         "fontSize": 24
        },
        "view": {
         "height": 300,
         "width": 400
        }
       },
       "data": {
        "format": {
         "type": "json"
        },
        "url": "altair-data-b2b043087a578c6cd98b1297c3521913.json"
       },
       "encoding": {
        "column": {
         "field": "Class",
         "type": "nominal"
        },
        "x": {
         "axis": {
          "labelAngle": 45
         },
         "field": "node_caps",
         "title": "node_caps",
         "type": "nominal"
        },
        "y": {
         "aggregate": "count",
         "title": "Number of patients",
         "type": "quantitative"
        }
       },
       "height": 200,
       "mark": "bar",
       "title": "Recurrence vs. node_caps",
       "width": 200
      },
      "image/png": "[encoded data removed]",
      "text/plain": [
       "<VegaLite 3 object>\n",
       "\n",
       "If you see this message, it means the renderer has not been properly enabled\n",
       "for the frontend that you are using. For more information, see\n",
       "https://altair-viz.github.io/user_guide/troubleshooting.html\n"
      ]
     },
     "execution_count": 16,
     "metadata": {},
     "output_type": "execute_result"
    }
   ],
   "source": [
    "plt4"
   ]
  },
  {
   "cell_type": "markdown",
   "metadata": {},
   "source": [
    "> patient with no node presenting in cap are more likely to have no recurrence events"
   ]
  },
  {
   "cell_type": "code",
   "execution_count": 17,
   "metadata": {},
   "outputs": [
    {
     "data": {
      "application/vnd.vegalite.v3+json": {
       "$schema": "https://vega.github.io/schema/vega-lite/v3.4.0.json",
       "config": {
        "axisX": {
         "domain": true,
         "domainWidth": 1,
         "grid": false,
         "gridColor": "#DEDDDD",
         "labelAngle": 0,
         "labelFont": "Arial",
         "labelFontSize": 14,
         "tickColor": "#000000",
         "tickSize": 5,
         "title": "X Axis Title (units)",
         "titleFont": "Arial",
         "titleFontSize": 16,
         "titlePadding": 10
        },
        "axisY": {
         "domain": false,
         "grid": true,
         "gridColor": "#DEDDDD",
         "gridWidth": 1,
         "labelAngle": 0,
         "labelFont": "Arial",
         "labelFontSize": 14,
         "title": "Y Axis Title (units)",
         "titleFont": "Arial",
         "titleFontSize": 16,
         "titlePadding": 10
        },
        "header": {
         "fontSize": 14,
         "labelFontSize": 14,
         "titleFontSize": 14
        },
        "legend": {
         "fontSize": 14,
         "labelFontSize": 14,
         "titleFontSize": 14
        },
        "title": {
         "anchor": "start",
         "font": "Arial",
         "fontColor": "#000000",
         "fontSize": 24
        },
        "view": {
         "height": 300,
         "width": 400
        }
       },
       "data": {
        "format": {
         "type": "json"
        },
        "url": "altair-data-b2b043087a578c6cd98b1297c3521913.json"
       },
       "encoding": {
        "column": {
         "field": "Class",
         "type": "nominal"
        },
        "x": {
         "axis": {
          "labelAngle": 45
         },
         "field": "deg_malig",
         "title": "deg_malig",
         "type": "nominal"
        },
        "y": {
         "aggregate": "count",
         "title": "Number of patients",
         "type": "quantitative"
        }
       },
       "height": 200,
       "mark": "bar",
       "title": "Recurrence vs. deg_malig",
       "width": 200
      },
      "image/png": "[encoded data removed]",
      "text/plain": [
       "<VegaLite 3 object>\n",
       "\n",
       "If you see this message, it means the renderer has not been properly enabled\n",
       "for the frontend that you are using. For more information, see\n",
       "https://altair-viz.github.io/user_guide/troubleshooting.html\n"
      ]
     },
     "execution_count": 17,
     "metadata": {},
     "output_type": "execute_result"
    }
   ],
   "source": [
    "plt5"
   ]
  },
  {
   "cell_type": "markdown",
   "metadata": {},
   "source": [
    "> Patients who have the highest drgree of malignancy are more likely to have recurrence events. The number of patients who have the second level of degree of malignancy is the largest."
   ]
  },
  {
   "cell_type": "code",
   "execution_count": 18,
   "metadata": {},
   "outputs": [
    {
     "data": {
      "application/vnd.vegalite.v3+json": {
       "$schema": "https://vega.github.io/schema/vega-lite/v3.4.0.json",
       "config": {
        "axisX": {
         "domain": true,
         "domainWidth": 1,
         "grid": false,
         "gridColor": "#DEDDDD",
         "labelAngle": 0,
         "labelFont": "Arial",
         "labelFontSize": 14,
         "tickColor": "#000000",
         "tickSize": 5,
         "title": "X Axis Title (units)",
         "titleFont": "Arial",
         "titleFontSize": 16,
         "titlePadding": 10
        },
        "axisY": {
         "domain": false,
         "grid": true,
         "gridColor": "#DEDDDD",
         "gridWidth": 1,
         "labelAngle": 0,
         "labelFont": "Arial",
         "labelFontSize": 14,
         "title": "Y Axis Title (units)",
         "titleFont": "Arial",
         "titleFontSize": 16,
         "titlePadding": 10
        },
        "header": {
         "fontSize": 14,
         "labelFontSize": 14,
         "titleFontSize": 14
        },
        "legend": {
         "fontSize": 14,
         "labelFontSize": 14,
         "titleFontSize": 14
        },
        "title": {
         "anchor": "start",
         "font": "Arial",
         "fontColor": "#000000",
         "fontSize": 24
        },
        "view": {
         "height": 300,
         "width": 400
        }
       },
       "data": {
        "format": {
         "type": "json"
        },
        "url": "altair-data-b2b043087a578c6cd98b1297c3521913.json"
       },
       "encoding": {
        "column": {
         "field": "Class",
         "type": "nominal"
        },
        "x": {
         "axis": {
          "labelAngle": 45
         },
         "field": "breast_quad",
         "title": "breast_quad",
         "type": "nominal"
        },
        "y": {
         "aggregate": "count",
         "title": "Number of patients",
         "type": "quantitative"
        }
       },
       "height": 200,
       "mark": "bar",
       "title": "Recurrence vs. breast_quad",
       "width": 200
      },
      "image/png": "[encoded data removed]",
      "text/plain": [
       "<VegaLite 3 object>\n",
       "\n",
       "If you see this message, it means the renderer has not been properly enabled\n",
       "for the frontend that you are using. For more information, see\n",
       "https://altair-viz.github.io/user_guide/troubleshooting.html\n"
      ]
     },
     "execution_count": 18,
     "metadata": {},
     "output_type": "execute_result"
    }
   ],
   "source": [
    "plt6"
   ]
  },
  {
   "cell_type": "markdown",
   "metadata": {},
   "source": [
    "> Cancers are more likely to grow on left low and left up position while they are least likely to grow an the central position. Position seems to do nothing with the whether recurrence or not."
   ]
  },
  {
   "cell_type": "code",
   "execution_count": 19,
   "metadata": {},
   "outputs": [
    {
     "data": {
      "application/vnd.vegalite.v3+json": {
       "$schema": "https://vega.github.io/schema/vega-lite/v3.4.0.json",
       "config": {
        "axisX": {
         "domain": true,
         "domainWidth": 1,
         "grid": false,
         "gridColor": "#DEDDDD",
         "labelAngle": 0,
         "labelFont": "Arial",
         "labelFontSize": 14,
         "tickColor": "#000000",
         "tickSize": 5,
         "title": "X Axis Title (units)",
         "titleFont": "Arial",
         "titleFontSize": 16,
         "titlePadding": 10
        },
        "axisY": {
         "domain": false,
         "grid": true,
         "gridColor": "#DEDDDD",
         "gridWidth": 1,
         "labelAngle": 0,
         "labelFont": "Arial",
         "labelFontSize": 14,
         "title": "Y Axis Title (units)",
         "titleFont": "Arial",
         "titleFontSize": 16,
         "titlePadding": 10
        },
        "header": {
         "fontSize": 14,
         "labelFontSize": 14,
         "titleFontSize": 14
        },
        "legend": {
         "fontSize": 14,
         "labelFontSize": 14,
         "titleFontSize": 14
        },
        "title": {
         "anchor": "start",
         "font": "Arial",
         "fontColor": "#000000",
         "fontSize": 24
        },
        "view": {
         "height": 300,
         "width": 400
        }
       },
       "data": {
        "format": {
         "type": "json"
        },
        "url": "altair-data-b2b043087a578c6cd98b1297c3521913.json"
       },
       "encoding": {
        "column": {
         "field": "Class",
         "type": "nominal"
        },
        "x": {
         "axis": {
          "labelAngle": 45
         },
         "field": "irradiat",
         "title": "irradiat",
         "type": "nominal"
        },
        "y": {
         "aggregate": "count",
         "title": "Number of patients",
         "type": "quantitative"
        }
       },
       "height": 200,
       "mark": "bar",
       "title": "Recurrence vs. irradiat treatment",
       "width": 200
      },
      "image/png": "[encoded data removed]",
      "text/plain": [
       "<VegaLite 3 object>\n",
       "\n",
       "If you see this message, it means the renderer has not been properly enabled\n",
       "for the frontend that you are using. For more information, see\n",
       "https://altair-viz.github.io/user_guide/troubleshooting.html\n"
      ]
     },
     "execution_count": 19,
     "metadata": {},
     "output_type": "execute_result"
    }
   ],
   "source": [
    "plt7"
   ]
  },
  {
   "cell_type": "markdown",
   "metadata": {},
   "source": [
    "> Patients who have taken radiation therapy are more likely to have no recurrence events while patients who have not taken radiation therapy are more likely to have recurrence events."
   ]
  },
  {
   "cell_type": "code",
   "execution_count": 20,
   "metadata": {},
   "outputs": [
    {
     "data": {
      "application/vnd.vegalite.v3+json": {
       "$schema": "https://vega.github.io/schema/vega-lite/v3.4.0.json",
       "config": {
        "axisX": {
         "domain": true,
         "domainWidth": 1,
         "grid": false,
         "gridColor": "#DEDDDD",
         "labelAngle": 0,
         "labelFont": "Arial",
         "labelFontSize": 14,
         "tickColor": "#000000",
         "tickSize": 5,
         "title": "X Axis Title (units)",
         "titleFont": "Arial",
         "titleFontSize": 16,
         "titlePadding": 10
        },
        "axisY": {
         "domain": false,
         "grid": true,
         "gridColor": "#DEDDDD",
         "gridWidth": 1,
         "labelAngle": 0,
         "labelFont": "Arial",
         "labelFontSize": 14,
         "title": "Y Axis Title (units)",
         "titleFont": "Arial",
         "titleFontSize": 16,
         "titlePadding": 10
        },
        "header": {
         "fontSize": 14,
         "labelFontSize": 14,
         "titleFontSize": 14
        },
        "legend": {
         "fontSize": 14,
         "labelFontSize": 14,
         "titleFontSize": 14
        },
        "title": {
         "anchor": "start",
         "font": "Arial",
         "fontColor": "#000000",
         "fontSize": 24
        },
        "view": {
         "height": 300,
         "width": 400
        }
       },
       "data": {
        "format": {
         "type": "json"
        },
        "url": "altair-data-b2b043087a578c6cd98b1297c3521913.json"
       },
       "encoding": {
        "color": {
         "field": "Class",
         "type": "nominal"
        },
        "x": {
         "bin": {},
         "field": "avg_tumor_size",
         "title": "Average tumor size",
         "type": "quantitative"
        },
        "y": {
         "aggregate": "count",
         "stack": null,
         "title": "Number of patients",
         "type": "quantitative"
        }
       },
       "height": 300,
       "mark": {
        "interpolate": "step",
        "opacity": 0.3,
        "type": "area"
       },
       "title": "Average tumor size distribution",
       "width": 400
      },
      "image/png": "[encoded data removed]",
      "text/plain": [
       "<VegaLite 3 object>\n",
       "\n",
       "If you see this message, it means the renderer has not been properly enabled\n",
       "for the frontend that you are using. For more information, see\n",
       "https://altair-viz.github.io/user_guide/troubleshooting.html\n"
      ]
     },
     "execution_count": 20,
     "metadata": {},
     "output_type": "execute_result"
    }
   ],
   "source": [
    "# Plot numeric features against target\n",
    "alt.Chart(df_train).mark_area(\n",
    "    opacity=0.3,\n",
    "    interpolate='step',\n",
    ").encode(\n",
    "    alt.X(\"avg_tumor_size:Q\", bin=alt.Bin(), title = \"Average tumor size\"),\n",
    "    alt.Y('count()', stack=None, title='Number of patients'),\n",
    "    alt.Color('Class')\n",
    ").properties(width=400, height=300, title=\"Average tumor size distribution\")"
   ]
  },
  {
   "cell_type": "markdown",
   "metadata": {},
   "source": [
    "> The distribution of average tumor size is approximately normally distributed. Patients who have tumor with average size between 20-25 is more likely to be non-recurrent. The mean of the average tumor size of patients with breast cancer recurrence is bigger than those without breast cancer recurrence. "
   ]
  }
 ],
 "metadata": {
  "kernelspec": {
   "display_name": "Python 3",
   "language": "python",
   "name": "python3"
  },
  "language_info": {
   "codemirror_mode": {
    "name": "ipython",
    "version": 3
   },
   "file_extension": ".py",
   "mimetype": "text/x-python",
   "name": "python",
   "nbconvert_exporter": "python",
   "pygments_lexer": "ipython3",
   "version": "3.7.4"
  }
 },
 "nbformat": 4,
 "nbformat_minor": 4
}
